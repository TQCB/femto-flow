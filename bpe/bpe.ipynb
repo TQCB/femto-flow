{
 "cells": [
  {
   "cell_type": "code",
   "execution_count": 3,
   "metadata": {},
   "outputs": [],
   "source": [
    "from collections import defaultdict"
   ]
  },
  {
   "cell_type": "code",
   "execution_count": 33,
   "metadata": {},
   "outputs": [
    {
     "name": "stdout",
     "output_type": "stream",
     "text": [
      "[('i', 's'), ('t', 'o'), ('k', 'e'), ('h', 'is'), ('a', 'l'), ('to', 'ke'), ('toke', 'n'), ('token', 'i')]\n"
     ]
    },
    {
     "ename": "KeyboardInterrupt",
     "evalue": "",
     "output_type": "error",
     "traceback": [
      "\u001b[1;31m---------------------------------------------------------------------------\u001b[0m",
      "\u001b[1;31mKeyboardInterrupt\u001b[0m                         Traceback (most recent call last)",
      "Cell \u001b[1;32mIn[33], line 101\u001b[0m\n\u001b[0;32m     99\u001b[0m bpe\u001b[38;5;241m.\u001b[39mfit(corpus)\n\u001b[0;32m    100\u001b[0m \u001b[38;5;28mprint\u001b[39m(bpe\u001b[38;5;241m.\u001b[39mmerges)\n\u001b[1;32m--> 101\u001b[0m \u001b[43mbpe\u001b[49m\u001b[38;5;241;43m.\u001b[39;49m\u001b[43mtokenize\u001b[49m\u001b[43m(\u001b[49m\u001b[43mcorpus\u001b[49m\u001b[43m)\u001b[49m\n",
      "Cell \u001b[1;32mIn[33], line 78\u001b[0m, in \u001b[0;36mBytePairTokenizer.tokenize\u001b[1;34m(self, corpus)\u001b[0m\n\u001b[0;32m     76\u001b[0m \u001b[38;5;28;01mwhile\u001b[39;00m i \u001b[38;5;241m<\u001b[39m \u001b[38;5;28mlen\u001b[39m(string) \u001b[38;5;241m-\u001b[39m \u001b[38;5;241m1\u001b[39m:\n\u001b[0;32m     77\u001b[0m   \u001b[38;5;28;01mif\u001b[39;00m (i \u001b[38;5;241m<\u001b[39m \u001b[38;5;28mlen\u001b[39m(string) \u001b[38;5;241m-\u001b[39m \u001b[38;5;241m1\u001b[39m) \u001b[38;5;241m&\u001b[39m ((string[i], string[i \u001b[38;5;241m+\u001b[39m \u001b[38;5;241m1\u001b[39m]) \u001b[38;5;129;01min\u001b[39;00m \u001b[38;5;28mself\u001b[39m\u001b[38;5;241m.\u001b[39mmerges):\n\u001b[1;32m---> 78\u001b[0m     tokenized_string\u001b[38;5;241m.\u001b[39mappend(string[i] \u001b[38;5;241m+\u001b[39m string[i\u001b[38;5;241m+\u001b[39m\u001b[38;5;241m1\u001b[39m])\n\u001b[0;32m     79\u001b[0m     \u001b[38;5;66;03m# i += 2\u001b[39;00m\n\u001b[0;32m     80\u001b[0m   \u001b[38;5;28;01melse\u001b[39;00m:\n\u001b[0;32m     81\u001b[0m     tokenized_string\u001b[38;5;241m.\u001b[39mappend(string[i])\n",
      "\u001b[1;31mKeyboardInterrupt\u001b[0m: "
     ]
    }
   ],
   "source": [
    "from collections import defaultdict, Counter\n",
    "\n",
    "class BytePairTokenizer:\n",
    "    def __init__(self, target_vocab_size):\n",
    "        self.target_vocab_size = target_vocab_size\n",
    "        self.merges = []\n",
    "    \n",
    "    def _compute_word_frequencies(self, corpus):\n",
    "        \"\"\"\n",
    "        Compute word frequencies from input corpus.\n",
    "        \"\"\"\n",
    "        return Counter([word for text in corpus for word in text.split()])\n",
    "    \n",
    "    def _initialize_tokens(self, word_frequency):\n",
    "        \"\"\"\n",
    "        Initialize tokens as single characters.\n",
    "        \"\"\"\n",
    "        return {word:list(word) for word in word_frequency.keys()}\n",
    "    \n",
    "    def _compute_pair_frequencies(self, tokens, word_frequency):\n",
    "        \"\"\"\n",
    "        Compute frequencies of adjacent token pairs.\n",
    "        \"\"\"\n",
    "        pair_freq = defaultdict(int)\n",
    "        for word, freq in word_frequency.items():\n",
    "            token = tokens[word]\n",
    "            for i in range(len(token) - 1):\n",
    "                pair = (token[i], token[i + 1])\n",
    "                pair_freq[pair] += freq\n",
    "        return pair_freq\n",
    "    \n",
    "    def _find_best_pair(self, pair_freq):\n",
    "        \"\"\"\n",
    "        Find most frequent pair in our tokenized corpus\n",
    "        \"\"\"\n",
    "        return max(pair_freq, key=pair_freq.get)\n",
    "\n",
    "    def _merge_tokens(self, tokens, pair):\n",
    "        \"\"\"\n",
    "        Replace occurences of a pair of tokens with the merged form.\n",
    "        \"\"\"\n",
    "        merged_tokens = {}\n",
    "        merge_str = ''.join(pair)\n",
    "        for word, token in tokens.items():\n",
    "            new_token = []\n",
    "            i = 0\n",
    "            while i < len(token):\n",
    "                if i < len(token) - 1 and (token[i], token[i + 1]) == pair:\n",
    "                    new_token.append(merge_str)\n",
    "                    i += 2\n",
    "                else:\n",
    "                    new_token.append(token[i])\n",
    "                    i += 1\n",
    "            merged_tokens[word] = new_token\n",
    "        return merged_tokens\n",
    "\n",
    "\n",
    "    def fit(self, corpus):\n",
    "       word_frequency = self._compute_word_frequencies(corpus)\n",
    "       tokens = self._initialize_tokens(word_frequency)\n",
    "\n",
    "       while len(self.merges) + len(set(\"\".join(tokens.keys()))) < self.target_vocab_size:\n",
    "           pair_frequency = self._compute_pair_frequencies(tokens, word_frequency)\n",
    "           best_pair = self._find_best_pair(pair_frequency)\n",
    "           if not best_pair:\n",
    "               break\n",
    "           self.merges.append(best_pair)\n",
    "           tokens = self._merge_tokens(tokens, best_pair)\n",
    "\n",
    "    def tokenize(self, corpus):\n",
    "      tokenized_corpus = []\n",
    "      for string in corpus:\n",
    "        \n",
    "        tokenized_string = []\n",
    "        i=0\n",
    "        while i < len(string) - 1:\n",
    "          if (i < len(string) - 1) & ((string[i], string[i + 1]) in self.merges):\n",
    "            tokenized_string.append(string[i] + string[i+1])\n",
    "            # i += 2\n",
    "          else:\n",
    "            tokenized_string.append(string[i])\n",
    "            i += 1\n",
    "        tokenized_corpus.append(tokenized_string)\n",
    "      print(tokenized_corpus)\n",
    "            \n",
    "corpus = [\n",
    "    # \"Hello world!\",\n",
    "    # \"It is a great day to hug puppies.\",\n",
    "    # \"It would be a shame to not do so.\",\n",
    "    # \"This text is full of nonsense: I don't care!\",\n",
    "    # \"I hope I have enough pair variety here to get an interesting result.\",\n",
    "    # \"This project is going to be a challenge\",\n",
    "    \"This is all about tokenization.\",\n",
    "    \"I'm trying to make this tokenization algorithm work\",\n",
    "    # \"I really I hope this works.\",\n",
    "        ]\n",
    "\n",
    "bpe = BytePairTokenizer(30)\n",
    "bpe.fit(corpus)\n",
    "print(bpe.merges)\n",
    "bpe.tokenize(corpus)"
   ]
  },
  {
   "cell_type": "code",
   "execution_count": null,
   "metadata": {},
   "outputs": [],
   "source": [
    "# Maybe I can split my text into pairs, check if pairs in merge dict, replace pair with that value until I can't find anymore\n",
    "string_pairs = [(string[i], string[i+1]) for i in range(len(string) - 1)]\n",
    "string_from_pairs = [pair[0] for pair in string_pairs]"
   ]
  }
 ],
 "metadata": {
  "kernelspec": {
   "display_name": "scratch_nn",
   "language": "python",
   "name": "python3"
  },
  "language_info": {
   "codemirror_mode": {
    "name": "ipython",
    "version": 3
   },
   "file_extension": ".py",
   "mimetype": "text/x-python",
   "name": "python",
   "nbconvert_exporter": "python",
   "pygments_lexer": "ipython3",
   "version": "3.9.20"
  }
 },
 "nbformat": 4,
 "nbformat_minor": 2
}
