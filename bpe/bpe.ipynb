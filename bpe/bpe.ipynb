{
 "cells": [
  {
   "cell_type": "code",
   "execution_count": 37,
   "metadata": {},
   "outputs": [],
   "source": [
    "import regex\n",
    "from collections import defaultdict"
   ]
  },
  {
   "cell_type": "code",
   "execution_count": null,
   "metadata": {},
   "outputs": [],
   "source": [
    "corpus = [\n",
    "    \"Hello world!\",\n",
    "    \"It is a great day to hug puppies.\",\n",
    "    \"It would be a shame to not do so.\",\n",
    "    \"This text is full of nonsense: I don't care!\",\n",
    "    \"I hope I have enough pair variety here to get an interesting result.\",\n",
    "    \"This project is going to be a challenge\",\n",
    "    \"This is all about tokenization.\",\n",
    "    \"I'm trying to make this tokenization algorithm work\",\n",
    "    \"I really I hope this works.\",\n",
    "        ]"
   ]
  },
  {
   "cell_type": "code",
   "execution_count": null,
   "metadata": {},
   "outputs": [],
   "source": [
    "def get_word_frequency(corpus):\n",
    "    words = [word for text in corpus for word in text.split()]\n",
    "    word_freq = {word:words.count(word) for word in words}\n",
    "    return word_freq\n",
    "\n",
    "def pretokenize_words(words):\n",
    "    return {word:[c for c in word] for word in words}\n",
    "\n",
    "\n",
    "def compute_pair_frequencies(tokens, word_freq):\n",
    "    # Sets val to 0 (int()) for undefined key, as if all pairs were set to 0\n",
    "    pair_freq = defaultdict(int)\n",
    "\n",
    "    for word, freq in word_freq.items():\n",
    "        token = tokens[word]\n",
    "        if len(token) == 1:\n",
    "            continue\n",
    "        for i in range(len(token) - 1):\n",
    "            pair = (token[i], token[i + 1])\n",
    "            pair_freq[pair] += freq\n",
    "    \n",
    "    return pair_freq\n",
    "\n",
    "def max_dict(dict, result):\n",
    "    max_key = ''\n",
    "    max_val = 0\n",
    "\n",
    "    for key, val in dict.items():\n",
    "        if val > max_val:\n",
    "            max_key = key\n",
    "            max_val = val\n",
    "\n",
    "    if result == 'key':\n",
    "        return max_key\n",
    "    elif result == 'val':\n",
    "        return max_val\n",
    "    elif result == 'both':\n",
    "        return max_key, max_val"
   ]
  },
  {
   "cell_type": "code",
   "execution_count": 60,
   "metadata": {},
   "outputs": [],
   "source": [
    "# Define base alphabet, word frequencies and initial tokens of input words\n",
    "word_freq = get_word_frequency(corpus)\n",
    "tokens = pretokenize_words(word_freq.keys())\n",
    "alphabet = list(set([c for word in word_freq.keys() for c in word]))\n",
    "\n",
    "# Set target total vocab size and amount of merges to learn\n",
    "target_vocab_size = 50\n",
    "learned_vocab_size = target_vocab_size - len(alphabet)\n",
    "\n",
    "# Set empty list of merges\n",
    "merges = []\n",
    "\n",
    "i=0\n",
    "while i < learned_vocab_size:\n",
    "    \n",
    "    # Find most frequent pair, register the elements and the merge\n",
    "    pair_freq = compute_pair_frequencies(tokens, word_freq)\n",
    "    best_pair = max_dict(pair_freq, 'key') \n",
    "    merges.append(best_pair)\n",
    "    alphabet.append(best_pair[0] + best_pair[1])\n",
    "\n",
    "    for word in word_freq.keys():\n",
    "        token = tokens[word]\n",
    "\n",
    "        if len(token) == 1:\n",
    "            continue\n",
    "\n",
    "        # Sliding window over all pairs, checking if they match the elements\n",
    "        # in the current best pair and replacing with a merge of the pair\n",
    "        for j in range(len(token) - 1):\n",
    "            if (token[j] == merges[i][0]) & (token [j+1] == merges[i][1]):\n",
    "                new_token = token[:j] + [merges[i][0] + merges[i][1]] + token[j+2:]\n",
    "                tokens[word] = new_token\n",
    "\n",
    "    i += 1"
   ]
  }
 ],
 "metadata": {
  "kernelspec": {
   "display_name": "scratchnn",
   "language": "python",
   "name": "python3"
  },
  "language_info": {
   "codemirror_mode": {
    "name": "ipython",
    "version": 3
   },
   "file_extension": ".py",
   "mimetype": "text/x-python",
   "name": "python",
   "nbconvert_exporter": "python",
   "pygments_lexer": "ipython3",
   "version": "3.9.20"
  }
 },
 "nbformat": 4,
 "nbformat_minor": 2
}
